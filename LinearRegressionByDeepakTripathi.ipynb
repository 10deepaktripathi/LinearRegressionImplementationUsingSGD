{
 "cells": [
  {
   "cell_type": "markdown",
   "metadata": {},
   "source": [
    "# Linear Regression using Gradient Discent"
   ]
  },
  {
   "cell_type": "raw",
   "metadata": {},
   "source": [
    "Objective Function of linear regression  L= Min E(i=1 to n) (Yi- (WtXi+b))^2 "
   ]
  },
  {
   "cell_type": "raw",
   "metadata": {},
   "source": [
    "Derivative with respect to W  Delta (L\\W)= (-2Xi)(Yi-WtXi-b)"
   ]
  },
  {
   "cell_type": "raw",
   "metadata": {},
   "source": [
    "Derivative with respect to b  Delta (L\\W)= -2*(Yi-WtXi-b)"
   ]
  },
  {
   "cell_type": "code",
   "execution_count": 156,
   "metadata": {},
   "outputs": [],
   "source": [
    "import pandas as pd\n",
    "import matplotlib.pyplot as plt\n",
    "from sklearn.model_selection import train_test_split\n",
    "from sklearn.metrics import mean_squared_error\n",
    "from sklearn import preprocessing\n",
    "import numpy as np\n",
    "from sklearn.metrics import mean_squared_error\n",
    "import pdb\n",
    "from sklearn.datasets import load_boston\n",
    "import matplotlib.animation as animation\n",
    "import time\n",
    "import math as m\n",
    "import warnings\n",
    "#warnings.filterwarnings('ignore')\n",
    "boston = load_boston()\n",
    "x=boston.data\n",
    "y=boston.target"
   ]
  },
  {
   "cell_type": "code",
   "execution_count": 157,
   "metadata": {},
   "outputs": [],
   "source": [
    "x_train, x_test, y_train, y_test = train_test_split(x, y, test_size = 0.1, random_state = 5)\n",
    "scaler_x = preprocessing.StandardScaler().fit(x_train)\n",
    "x_train = scaler_x.transform(x_train)\n",
    "x = x_train\n",
    "y=y_train"
   ]
  },
  {
   "cell_type": "code",
   "execution_count": 158,
   "metadata": {},
   "outputs": [],
   "source": [
    "def predictxy(x,y,w,b):\n",
    "    z=np.zeros(len(x))\n",
    "    wt=np.transpose(w)\n",
    "    for i in range(len(x)):\n",
    "        z[i]=np.dot(x[i],w)+b\n",
    "    return z"
   ]
  },
  {
   "cell_type": "code",
   "execution_count": 159,
   "metadata": {},
   "outputs": [],
   "source": [
    "def plotxy(x,y,w,b):\n",
    "    z=predictxy(x,y,w,b)\n",
    "    plt.scatter(y,z)\n",
    "    plt.xlabel(\"Real Prices\")\n",
    "    plt.ylabel(\"Predicted prices\")\n",
    "    plt.show()\n",
    "    return z"
   ]
  },
  {
   "cell_type": "code",
   "execution_count": 160,
   "metadata": {},
   "outputs": [],
   "source": [
    "def GradientDiscent(x,y,w,b,r):   \n",
    "    n=x.shape[0]\n",
    "    col=x.shape[1]\n",
    "    wt=np.transpose(w)\n",
    "    sw=np.zeros(col)\n",
    "    sb=0\n",
    "    #pdb.set_trace()\n",
    "    for i in range(n):                  #  this loop is running for each row in data x\n",
    "        z=-2*(y[i]-np.dot(x[i],wt)-b)   #  Note that this will give a scalar quantity\n",
    "                                        #  culculating -2{(Yi-(WtXi+b)}\n",
    "        sw+=z*x[i]                      #  culculating [Xi*-2{Yi-(WtXi+b)}] Note that this will give a vector. \n",
    "                                        #  This will give partial dervative of [y-(wx+b)]^2 w-r-t (W)\n",
    "        sb+=z                           #  This will give partial dervative of [y-(wx+b)]^2 w-r-t (b)\n",
    "        #pdb.set_trace()\n",
    "    sw=sw/n\n",
    "    sb=sb/n\n",
    "    return sw,sb  "
   ]
  },
  {
   "cell_type": "code",
   "execution_count": 161,
   "metadata": {},
   "outputs": [],
   "source": [
    "def get_optimal_W_and_B_Using_GradientDiscent(x,y):\n",
    "    \n",
    "    col=x.shape[1]\n",
    "    #w = np.random.rand(col)\n",
    "    w = np.random.normal(0,1,col)\n",
    "    b = np.random.random()\n",
    "    r=.1                                    # Learning Rate\n",
    "    for j in range(6000):                   # No of epoch\n",
    "        w_old=w\n",
    "        b_old=b\n",
    "        w,b=GradientDiscent(x,y,w,b,r)      # X is the data  , Y is House Sales value,  W is the weight vector we are trying to train,  r is the step size in gradient discent\n",
    "        w=w*r                              # r*(dl/dw)  here w contains the value of dl/dw\n",
    "        w=w_old-w                          # update w as wi-r*(dl/dw) \n",
    "        b=b*r                              # r*(dl/db)  here b contains the value of dl/db\n",
    "        b=b_old-b                          # update b as bi-r*(dl/db)\n",
    "        #r=r/2\n",
    "        #pdb.set_trace()\n",
    "        if(sum(w-w_old)>-.001 and sum(w-w_old)<.001):# difference between old weights and new weights should lie b/w(-.01 to .01)\n",
    "            print(\"Threshod condition satisfied and below is the output\\nNote That Threshold Condiftion is:\\ndifference between old weights and new weights should lie b/w(-.01 to .01)\\n\")\n",
    "            break;\n",
    "    return w,w_old,b\n"
   ]
  },
  {
   "cell_type": "code",
   "execution_count": 162,
   "metadata": {},
   "outputs": [
    {
     "name": "stdout",
     "output_type": "stream",
     "text": [
      "Threshod condition satisfied and below is the output\n",
      "Note That Threshold Condiftion is:\n",
      "difference between old weights and new weights should lie b/w(-.01 to .01)\n",
      "\n"
     ]
    }
   ],
   "source": [
    "w,w_old,b=get_optimal_W_and_B_Using_GradientDiscent(x,y)\n"
   ]
  },
  {
   "cell_type": "code",
   "execution_count": 163,
   "metadata": {},
   "outputs": [
    {
     "data": {
      "image/png": "[encoded data removed]",
      "text/plain": [
       "<Figure size 432x288 with 1 Axes>"
      ]
     },
     "metadata": {
      "needs_background": "light"
     },
     "output_type": "display_data"
    }
   ],
   "source": [
    "z_test=plotxy(scaler_x.transform(x_test),y_test,w,b)"
   ]
  },
  {
   "cell_type": "code",
   "execution_count": 164,
   "metadata": {},
   "outputs": [
    {
     "name": "stdout",
     "output_type": "stream",
     "text": [
      "MSE ON Test Data:   24.688456492580578\n"
     ]
    }
   ],
   "source": [
    "print(\"MSE ON Test Data:  \",mean_squared_error(y_test, z_test))"
   ]
  },
  {
   "cell_type": "code",
   "execution_count": 165,
   "metadata": {},
   "outputs": [
    {
     "data": {
      "image/png": "[encoded data removed]",
      "text/plain": [
       "<Figure size 432x288 with 1 Axes>"
      ]
     },
     "metadata": {
      "needs_background": "light"
     },
     "output_type": "display_data"
    }
   ],
   "source": [
    "z_train=plotxy(x_train,y_train,w,b)"
   ]
  },
  {
   "cell_type": "code",
   "execution_count": 166,
   "metadata": {},
   "outputs": [
    {
     "name": "stdout",
     "output_type": "stream",
     "text": [
      "MSE ON Train Data:   21.862390396482365\n"
     ]
    }
   ],
   "source": [
    "print(\"MSE ON Train Data:  \",mean_squared_error(y_train, z_train))"
   ]
  },
  {
   "cell_type": "markdown",
   "metadata": {},
   "source": [
    "# Linear Regression using Stochastic Gradient Discent"
   ]
  },
  {
   "cell_type": "code",
   "execution_count": 169,
   "metadata": {},
   "outputs": [],
   "source": [
    "def get_optimal_W_and_B_Using_StocasticGradientDiscent(x,y):\n",
    "    \n",
    "    col=x.shape[1]\n",
    "    n=x.shape[0]\n",
    "    w = np.random.normal(0,1,col)\n",
    "    b = np.random.random()\n",
    "    r=.1                                    # Learning Rate\n",
    "    for j in range(6000):                   # No of epoch\n",
    "        \n",
    "        idx = np.random.randint(n, size=50)    #Select 50 row indexes randomly from dataset x in each iteration\n",
    "        random_x=x[idx,:]\n",
    "        random_y=y[idx]\n",
    "        w_old=w\n",
    "        b_old=b\n",
    "        w,b=GradientDiscent(random_x,random_y,w,b,r)      # X is the data  , Y is House Sales value,  W is the weight vector we are trying to train,  r is the step size in gradient discent\n",
    "        w=w*r                              # r*(dl/dw)  here w contains the value of dl/dw\n",
    "        w=w_old-w                          # update w as wi-r*(dl/dw) \n",
    "        b=b*r                              # r*(dl/db)  here b contains the value of dl/db\n",
    "        b=b_old-b                          # update b as bi-r*(dl/db)\n",
    "        #r=r/2\n",
    "        #pdb.set_trace()\n",
    "        if(sum(w-w_old)>-.001 and sum(w-w_old)<.001):# difference between old weights and new weights should lie b/w(-.01 to .01)\n",
    "            print(\"Threshod condition satisfied and below is the output\\nNote That Threshold Condiftion is:\\ndifference between old weights and new weights should lie b/w(-.01 to .01)\\n\")\n",
    "            break;\n",
    "    return w,w_old,b"
   ]
  },
  {
   "cell_type": "code",
   "execution_count": 170,
   "metadata": {},
   "outputs": [
    {
     "name": "stdout",
     "output_type": "stream",
     "text": [
      "Threshod condition satisfied and below is the output\n",
      "Note That Threshold Condiftion is:\n",
      "difference between old weights and new weights should lie b/w(-.01 to .01)\n",
      "\n"
     ]
    }
   ],
   "source": [
    "w,w_old,b=get_optimal_W_and_B_Using_StocasticGradientDiscent(x,y)"
   ]
  },
  {
   "cell_type": "code",
   "execution_count": 171,
   "metadata": {},
   "outputs": [
    {
     "data": {
      "image/png": "[encoded data removed]",
      "text/plain": [
       "<Figure size 432x288 with 1 Axes>"
      ]
     },
     "metadata": {
      "needs_background": "light"
     },
     "output_type": "display_data"
    }
   ],
   "source": [
    "z_test=plotxy(scaler_x.transform(x_test),y_test,w,b)   #z_test contains predicted house sales values for test data"
   ]
  },
  {
   "cell_type": "code",
   "execution_count": 172,
   "metadata": {},
   "outputs": [
    {
     "name": "stdout",
     "output_type": "stream",
     "text": [
      "MSE ON Test Data:   24.723068006661997\n"
     ]
    }
   ],
   "source": [
    "print(\"MSE ON Test Data:  \",mean_squared_error(y_test, z_test))"
   ]
  },
  {
   "cell_type": "code",
   "execution_count": 173,
   "metadata": {},
   "outputs": [
    {
     "data": {
      "image/png": "[encoded data removed]",
      "text/plain": [
       "<Figure size 432x288 with 1 Axes>"
      ]
     },
     "metadata": {
      "needs_background": "light"
     },
     "output_type": "display_data"
    }
   ],
   "source": [
    "z_train=plotxy(x_train,y_train,w,b)         #z_train contains predicted house sales values for train data"
   ]
  },
  {
   "cell_type": "code",
   "execution_count": 174,
   "metadata": {},
   "outputs": [
    {
     "name": "stdout",
     "output_type": "stream",
     "text": [
      "MSE ON Train Data:   21.997375679895864\n"
     ]
    }
   ],
   "source": [
    "print(\"MSE ON Train Data:  \",mean_squared_error(y_train, z_train))"
   ]
  },
  {
   "cell_type": "markdown",
   "metadata": {},
   "source": [
    "# Now lets use scikit learn's inbuilt linear regression modal and compare the result that we have received above"
   ]
  },
  {
   "cell_type": "code",
   "execution_count": 177,
   "metadata": {},
   "outputs": [],
   "source": [
    "from sklearn.linear_model import LinearRegression\n",
    "lnrg = LinearRegression()\n",
    "lnrg.fit(x,y)\n",
    "y_pred = lnrg.predict(scaler_x.transform(x_test))"
   ]
  },
  {
   "cell_type": "code",
   "execution_count": 178,
   "metadata": {},
   "outputs": [
    {
     "data": {
      "image/png": "[encoded data removed]",
      "text/plain": [
       "<Figure size 432x288 with 1 Axes>"
      ]
     },
     "metadata": {
      "needs_background": "light"
     },
     "output_type": "display_data"
    }
   ],
   "source": [
    "plt.scatter(y_test, y_pred)\n",
    "plt.xlabel(\"Real Prices\")\n",
    "plt.ylabel(\"Predicted prices\")\n",
    "plt.show()"
   ]
  },
  {
   "cell_type": "code",
   "execution_count": 179,
   "metadata": {},
   "outputs": [
    {
     "name": "stdout",
     "output_type": "stream",
     "text": [
      "MSE ON Test Data:   24.86338945239887\n"
     ]
    }
   ],
   "source": [
    "print(\"MSE ON Test Data:  \",mean_squared_error(y_test, y_pred))"
   ]
  },
  {
   "cell_type": "code",
   "execution_count": 180,
   "metadata": {},
   "outputs": [
    {
     "data": {
      "image/png": "[encoded data removed]",
      "text/plain": [
       "<Figure size 432x288 with 1 Axes>"
      ]
     },
     "metadata": {
      "needs_background": "light"
     },
     "output_type": "display_data"
    }
   ],
   "source": [
    "ytrain_pred = lnrg.predict(x_train)\n",
    "plt.scatter(y_train, ytrain_pred)\n",
    "plt.xlabel(\"Real Prices\")\n",
    "plt.ylabel(\"Predicted prices\")\n",
    "plt.show()"
   ]
  },
  {
   "cell_type": "code",
   "execution_count": 181,
   "metadata": {},
   "outputs": [
    {
     "name": "stdout",
     "output_type": "stream",
     "text": [
      "MSE ON Train Data:   21.84340046018602\n"
     ]
    }
   ],
   "source": [
    "print(\"MSE ON Train Data:  \",mean_squared_error(y, ytrain_pred))"
   ]
  },
  {
   "cell_type": "raw",
   "metadata": {},
   "source": [
    "-------------------------------MSE On Linear Grgression Using Gradient Discent--------------------------\n",
    "\n",
    "MSE ON Test Data:    24.688456492580578\n",
    "MSE ON Train Data:   21.862390396482365\n",
    "\n",
    "-------------------------------MSE On Linear Grgression Using Stochastic Gradient Discent-----------------\n",
    "\n",
    "MSE ON Test Data:    24.723068006661997 \n",
    "MSE ON Train Data:   21.997375679895864\n",
    "\n",
    "-------------------------------MSE On Scikit Learn's Linear Grgression------------------------------------\n",
    "\n",
    "MSE ON Test Data:    24.86338945239887\n",
    "MSE ON Train Data:   21.84340046018602\n",
    "\n",
    "\n",
    "Each model is giving almost equal MSE on train and test data"
   ]
  }
 ],
 "metadata": {
  "kernelspec": {
   "display_name": "Python 3",
   "language": "python",
   "name": "python3"
  },
  "language_info": {
   "codemirror_mode": {
    "name": "ipython",
    "version": 3
   },
   "file_extension": ".py",
   "mimetype": "text/x-python",
   "name": "python",
   "nbconvert_exporter": "python",
   "pygments_lexer": "ipython3",
   "version": "3.7.1"
  }
 },
 "nbformat": 4,
 "nbformat_minor": 2
}
